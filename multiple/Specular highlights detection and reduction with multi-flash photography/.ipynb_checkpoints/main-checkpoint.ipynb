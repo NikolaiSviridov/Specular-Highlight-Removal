{
 "cells": [
  {
   "cell_type": "code",
   "execution_count": 64,
   "metadata": {},
   "outputs": [],
   "source": [
    "import cv2\n",
    "import numpy as np\n",
    "from matplotlib import pyplot as plt\n",
    "from multiprocessing import Pool\n",
    "import time\n",
    "import dill\n",
    "from PIL import Image\n",
    "from collections import defaultdict\n"
   ]
  },
  {
   "cell_type": "code",
   "execution_count": 52,
   "metadata": {},
   "outputs": [
    {
     "data": {
      "text/plain": [
       "<matplotlib.image.AxesImage at 0x1ad84a8fdc8>"
      ]
     },
     "execution_count": 52,
     "metadata": {},
     "output_type": "execute_result"
    },
    {
     "data": {
      "image/png": "[encoded data removed]",
      "text/plain": [
       "<Figure size 432x288 with 1 Axes>"
      ]
     },
     "metadata": {
      "needs_background": "light"
     },
     "output_type": "display_data"
    }
   ],
   "source": [
    "def draw_line(img, color, l, r, hor):\n",
    "    if hor:\n",
    "        img[l:r,:,color] = 0\n",
    "    else:\n",
    "        img[:,l:r,color] = 0\n",
    "\n",
    "size = 640\n",
    "O = np.ones((size, size))\n",
    "img = cv2.merge([O, O, O]).astype(\"uint8\")\n",
    "img[img == 1] = 192\n",
    "n = 30\n",
    "for i in range(size // n):  \n",
    "    l = 0 + n * i\n",
    "    r = 5 + n * i\n",
    "    for color in range(3):\n",
    "        draw_line(img, color, l, r, True)\n",
    "        draw_line(img, color, l, r, False)\n",
    "        \n",
    "\n",
    "plt.imshow(img)"
   ]
  },
  {
   "cell_type": "code",
   "execution_count": 59,
   "metadata": {},
   "outputs": [],
   "source": [
    "def gen_circle(img , center, r):\n",
    "    color = (255, 255, 255) \n",
    "    thickness = -1\n",
    "    return cv2.circle(img, center, r, color, thickness) \n",
    "r = 80\n",
    "centers = [(150,150), (450, 150) , (450, 450), (150, 450)]\n",
    "circles = []\n",
    "for center in centers:\n",
    "    circles.append(gen_circle(np.copy(img) , center, r))"
   ]
  },
  {
   "cell_type": "code",
   "execution_count": 61,
   "metadata": {},
   "outputs": [
    {
     "data": {
      "text/plain": [
       "<matplotlib.image.AxesImage at 0x1ad85de6608>"
      ]
     },
     "execution_count": 61,
     "metadata": {},
     "output_type": "execute_result"
    },
    {
     "data": {
      "image/png": "[encoded data removed]",
      "text/plain": [
       "<Figure size 432x288 with 4 Axes>"
      ]
     },
     "metadata": {
      "needs_background": "light"
     },
     "output_type": "display_data"
    }
   ],
   "source": [
    "f, axarr = plt.subplots(2,2)\n",
    "axarr[0,0].imshow(circles[0])\n",
    "axarr[0,1].imshow(circles[1])\n",
    "axarr[1,0].imshow(circles[2])\n",
    "axarr[1,1].imshow(circles[3])"
   ]
  },
  {
   "cell_type": "code",
   "execution_count": 92,
   "metadata": {},
   "outputs": [
    {
     "data": {
      "text/plain": [
       "<matplotlib.image.AxesImage at 0x1ad87d08508>"
      ]
     },
     "execution_count": 92,
     "metadata": {},
     "output_type": "execute_result"
    },
    {
     "data": {
      "image/png": "[encoded data removed]",
      "text/plain": [
       "<Figure size 432x288 with 1 Axes>"
      ]
     },
     "metadata": {
      "needs_background": "light"
     },
     "output_type": "display_data"
    }
   ],
   "source": [
    "I_colors = defaultdict(list)\n",
    "for I_k in circles:\n",
    "    I = cv2.split(I_k)\n",
    "    for color, value in enumerate(I):\n",
    "        I_colors[color].append(value)\n",
    "\n",
    "max_vals = []\n",
    "for color in range(3):\n",
    "    max_v = I_colors[color][0]\n",
    "    for value in I_colors[color][1:]:\n",
    "        max_v = np.maximum(max_v, value)\n",
    "    max_vals.append(max_v)\n",
    "\n",
    "I_max = cv2.merge(max_vals)\n",
    "plt.imshow(I_max)"
   ]
  },
  {
   "cell_type": "code",
   "execution_count": null,
   "metadata": {},
   "outputs": [],
   "source": [
    "mb sobel"
   ]
  },
  {
   "cell_type": "code",
   "execution_count": 105,
   "metadata": {},
   "outputs": [],
   "source": [
    "G_x = []\n",
    "G_y = []\n",
    "for circle in circles:\n",
    "    g_x, g_y, g_z = np.gradient(circle)\n",
    "    G_x.append(g_x)\n",
    "    G_y.append(g_y)\n",
    "G_median_x = np.median(G_x, axis=0)\n",
    "G_median_y = np.median(G_y, axis=0)"
   ]
  }
 ],
 "metadata": {
  "kernelspec": {
   "display_name": "Python 3",
   "language": "python",
   "name": "python3"
  },
  "language_info": {
   "codemirror_mode": {
    "name": "ipython",
    "version": 3
   },
   "file_extension": ".py",
   "mimetype": "text/x-python",
   "name": "python",
   "nbconvert_exporter": "python",
   "pygments_lexer": "ipython3",
   "version": "3.7.6"
  }
 },
 "nbformat": 4,
 "nbformat_minor": 4
}
