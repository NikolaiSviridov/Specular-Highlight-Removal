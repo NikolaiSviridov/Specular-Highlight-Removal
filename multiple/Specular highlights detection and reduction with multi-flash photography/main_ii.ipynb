{
 "cells": [
  {
   "cell_type": "code",
   "execution_count": 2,
   "metadata": {},
   "outputs": [],
   "source": [
    "import cv2\n",
    "import numpy as np\n",
    "from matplotlib import pyplot as plt\n",
    "from multiprocessing import Pool\n",
    "import time\n",
    "import dill\n",
    "from PIL import Image\n",
    "from collections import defaultdict\n",
    "import pyamg\n"
   ]
  },
  {
   "cell_type": "code",
   "execution_count": 3,
   "metadata": {},
   "outputs": [],
   "source": [
    "def get_maximum(A):\n",
    "    init = A[0]\n",
    "    for a in A[1:]:\n",
    "        init = np.maximum(a, init)\n",
    "    return init"
   ]
  },
  {
   "cell_type": "code",
   "execution_count": 4,
   "metadata": {},
   "outputs": [
    {
     "data": {
      "text/plain": [
       "<matplotlib.image.AxesImage at 0x18f967bc9c8>"
      ]
     },
     "execution_count": 4,
     "metadata": {},
     "output_type": "execute_result"
    },
    {
     "data": {
      "image/png": "[encoded data removed]",
      "text/plain": [
       "<Figure size 432x288 with 1 Axes>"
      ]
     },
     "metadata": {
      "needs_background": "light"
     },
     "output_type": "display_data"
    }
   ],
   "source": [
    "def draw_line(img, color, l, r, hor):\n",
    "    if hor:\n",
    "        img[l:r,:,color] = 0\n",
    "    else:\n",
    "        img[:,l:r,color] = 0\n",
    "\n",
    "size = 640\n",
    "O = np.ones((size, size))\n",
    "img = cv2.merge([O, O, O]).astype(\"uint8\")\n",
    "img[img == 1] = 192\n",
    "n = 30\n",
    "for i in range(size // n):  \n",
    "    l = 0 + n * i\n",
    "    r = 5 + n * i\n",
    "    for color in range(3):\n",
    "        draw_line(img, color, l, r, True)\n",
    "        draw_line(img, color, l, r, False)\n",
    "        \n",
    "\n",
    "plt.imshow(img)"
   ]
  },
  {
   "cell_type": "code",
   "execution_count": 7,
   "metadata": {},
   "outputs": [],
   "source": [
    "def gen_circle(img , center, r):\n",
    "    color = (255, 255, 255) \n",
    "    thickness = -1\n",
    "    return cv2.circle(img, center, r, color, thickness) \n",
    "\n",
    "r = 80\n",
    "centers = [(300,200), (300, 340) , (350, 280), (250, 280)]\n",
    "circles = []\n",
    "for center in centers:\n",
    "    circles.append(gen_circle(np.copy(img) , center, r))"
   ]
  },
  {
   "cell_type": "code",
   "execution_count": 8,
   "metadata": {},
   "outputs": [
    {
     "data": {
      "text/plain": [
       "<matplotlib.image.AxesImage at 0x18f96d1cf88>"
      ]
     },
     "execution_count": 8,
     "metadata": {},
     "output_type": "execute_result"
    },
    {
     "data": {
      "image/png": "[encoded data removed]",
      "text/plain": [
       "<Figure size 432x288 with 4 Axes>"
      ]
     },
     "metadata": {
      "needs_background": "light"
     },
     "output_type": "display_data"
    }
   ],
   "source": [
    "f, axarr = plt.subplots(2,2)\n",
    "axarr[0,0].imshow(circles[0])\n",
    "axarr[0,1].imshow(circles[1])\n",
    "axarr[1,0].imshow(circles[2])\n",
    "axarr[1,1].imshow(circles[3])"
   ]
  },
  {
   "cell_type": "code",
   "execution_count": 9,
   "metadata": {},
   "outputs": [
    {
     "data": {
      "text/plain": [
       "<matplotlib.image.AxesImage at 0x18f97ce3888>"
      ]
     },
     "execution_count": 9,
     "metadata": {},
     "output_type": "execute_result"
    },
    {
     "data": {
      "image/png": "[encoded data removed]",
      "text/plain": [
       "<Figure size 432x288 with 1 Axes>"
      ]
     },
     "metadata": {
      "needs_background": "light"
     },
     "output_type": "display_data"
    }
   ],
   "source": [
    "I_colors = defaultdict(list)\n",
    "for I_k in circles:\n",
    "    I = cv2.split(I_k)\n",
    "    for color, value in enumerate(I):\n",
    "        I_colors[color].append(value)\n",
    "\n",
    "max_vals = []\n",
    "for color in range(3):\n",
    "    max_v = I_colors[color][0]\n",
    "    for value in I_colors[color][1:]:\n",
    "        max_v = np.maximum(max_v, value)\n",
    "    max_vals.append(max_v)\n",
    "\n",
    "I_max = cv2.merge(max_vals)\n",
    "plt.imshow(I_max)"
   ]
  },
  {
   "cell_type": "markdown",
   "metadata": {},
   "source": [
    "mb sobel"
   ]
  },
  {
   "cell_type": "code",
   "execution_count": 10,
   "metadata": {},
   "outputs": [],
   "source": [
    "def stats(A):\n",
    "    return A.dtype, A.shape, np.min(A), np.median(A), np.max(A)"
   ]
  },
  {
   "cell_type": "markdown",
   "metadata": {},
   "source": [
    "## Calculate intensity gradients $G_k$ gradients of $I_k$. Sobel and numpy"
   ]
  },
  {
   "cell_type": "code",
   "execution_count": 11,
   "metadata": {},
   "outputs": [
    {
     "name": "stdout",
     "output_type": "stream",
     "text": [
      "stats X: (dtype('float64'), (640, 640, 3), -12240.0, 0.0, 12240.0)\n",
      "stats Y: (dtype('float64'), (640, 640, 3), -12240.0, 0.0, 12240.0)\n",
      "====================\n",
      "g_x : (dtype('float64'), (640, 640, 3), -127.5, 0.0, 127.5)\n",
      "g_y : (dtype('float64'), (640, 640, 3), -127.5, 0.0, 127.5)\n",
      "--------------------\n",
      "stats X: (dtype('float64'), (640, 640, 3), -12240.0, 0.0, 12240.0)\n",
      "stats Y: (dtype('float64'), (640, 640, 3), -12240.0, 0.0, 12240.0)\n",
      "====================\n",
      "g_x : (dtype('float64'), (640, 640, 3), -127.5, 0.0, 127.5)\n",
      "g_y : (dtype('float64'), (640, 640, 3), -127.5, 0.0, 127.5)\n",
      "--------------------\n",
      "stats X: (dtype('float64'), (640, 640, 3), -12240.0, 0.0, 12240.0)\n",
      "stats Y: (dtype('float64'), (640, 640, 3), -12240.0, 0.0, 12240.0)\n",
      "====================\n",
      "g_x : (dtype('float64'), (640, 640, 3), -127.5, 0.0, 127.5)\n",
      "g_y : (dtype('float64'), (640, 640, 3), -127.5, 0.0, 127.5)\n",
      "--------------------\n",
      "stats X: (dtype('float64'), (640, 640, 3), -12240.0, 0.0, 12240.0)\n",
      "stats Y: (dtype('float64'), (640, 640, 3), -12240.0, 0.0, 12240.0)\n",
      "====================\n",
      "g_x : (dtype('float64'), (640, 640, 3), -127.5, 0.0, 127.5)\n",
      "g_y : (dtype('float64'), (640, 640, 3), -127.5, 0.0, 127.5)\n",
      "--------------------\n"
     ]
    }
   ],
   "source": [
    "G_sobel_x = []\n",
    "G_sobel_y = []\n",
    "G_np_x = []\n",
    "G_np_y = []\n",
    "# G = []\n",
    "for circle in circles:\n",
    "    \n",
    "    sobelx = cv2.Sobel(circle,cv2.CV_64F,1,0,ksize=5)\n",
    "    sobely = cv2.Sobel(circle,cv2.CV_64F,0,1,ksize=5)\n",
    "    G_sobel_x.append(sobelx)\n",
    "    G_sobel_y.append(sobely)\n",
    "    \n",
    "    print(f\"stats X: {stats(sobelx)}\")\n",
    "    print(f\"stats Y: {stats(sobely)}\")\n",
    "    \n",
    "    print(\"=\" * 20)\n",
    "   \n",
    "    g_y, g_x, g_z = np.gradient(circle)\n",
    "    G_np_x.append(g_x)\n",
    "    G_np_y.append(g_y)    \n",
    "    \n",
    "    print(f\"g_x : {stats(g_x)}\")\n",
    "    print(f\"g_y : {stats(g_y)}\")\n",
    "    \n",
    "    print(\"-\" * 20)\n",
    "    \n",
    "\n"
   ]
  },
  {
   "cell_type": "markdown",
   "metadata": {},
   "source": [
    "## $G$ median of gradients ($G(x, y)= median_{k} (G_k(x,y))$). Sobel and numpy"
   ]
  },
  {
   "cell_type": "code",
   "execution_count": 12,
   "metadata": {},
   "outputs": [],
   "source": [
    "G_sobel_median_x = np.median(G_sobel_x, axis=0)\n",
    "G_sobel_median_y = np.median(G_sobel_y, axis=0)\n",
    "\n",
    "G_np_median_x = np.median(G_np_x, axis=0)\n",
    "G_np_median_y = np.median(G_np_y, axis=0)"
   ]
  },
  {
   "cell_type": "code",
   "execution_count": 13,
   "metadata": {},
   "outputs": [
    {
     "name": "stdout",
     "output_type": "stream",
     "text": [
      "sobel_x median: (dtype('float64'), (640, 640, 3), -9216.0, 0.0, 9216.0)\n",
      "numpy_x median: (dtype('float64'), (640, 640, 3), -96.0, 0.0, 96.0)\n"
     ]
    }
   ],
   "source": [
    "print(f\"sobel_x median: {stats(G_sobel_median_x)}\")\n",
    "print(f\"numpy_x median: {stats(G_np_median_x)}\")"
   ]
  },
  {
   "cell_type": "markdown",
   "metadata": {},
   "source": [
    "## Poisson equation"
   ]
  },
  {
   "cell_type": "markdown",
   "metadata": {},
   "source": [
    "### divergence of the vector field G"
   ]
  },
  {
   "cell_type": "code",
   "execution_count": 14,
   "metadata": {},
   "outputs": [],
   "source": [
    "sobelx = cv2.Sobel(G_sobel_median_x,cv2.CV_64F,1,0,ksize=5)\n",
    "sobely = cv2.Sobel(G_sobel_median_y,cv2.CV_64F,0,1,ksize=5)\n",
    "div_G_sobel = sobelx + sobely\n",
    "\n",
    "x_y, x_x, x_z = np.gradient(G_np_median_x)\n",
    "y_y, y_x, y_z = np.gradient(G_np_median_y)\n",
    "div_G_np = x_x + y_y"
   ]
  },
  {
   "cell_type": "code",
   "execution_count": 15,
   "metadata": {},
   "outputs": [
    {
     "name": "stdout",
     "output_type": "stream",
     "text": [
      "div_G_sobel: (dtype('float64'), (640, 640, 3), -756864.0, 0.0, 494071.5)\n",
      "div_G_np: (dtype('float64'), (640, 640, 3), -96.0, 0.0, 79.875)\n"
     ]
    }
   ],
   "source": [
    "print(f\"div_G_sobel: {stats(div_G_sobel)}\")\n",
    "print(f\"div_G_np: {stats(div_G_np)}\")"
   ]
  },
  {
   "cell_type": "markdown",
   "metadata": {},
   "source": [
    "### Solver"
   ]
  },
  {
   "cell_type": "code",
   "execution_count": 16,
   "metadata": {},
   "outputs": [],
   "source": [
    "def calc_R(alpha, I, I_max):\n",
    "    return alpha * I + (1 - alpha) * I_max"
   ]
  },
  {
   "cell_type": "code",
   "execution_count": 17,
   "metadata": {},
   "outputs": [],
   "source": [
    "def solve_poisson(shape, div_G):\n",
    "    A = pyamg.gallery.poisson(shape, format='csr')  # 2D Poisson problem on 500x500 grid\n",
    "    ml = pyamg.ruge_stuben_solver(A)                    # construct the multigrid hierarchy\n",
    "    print(ml)                                           # print hierarchy information\n",
    "    b = div_G.ravel()\n",
    "    x = ml.solve(b, tol=1e-10)\n",
    "    print(\"residual: \", np.linalg.norm(b-A*x)) \n",
    "    return x"
   ]
  },
  {
   "cell_type": "code",
   "execution_count": 18,
   "metadata": {},
   "outputs": [
    {
     "data": {
      "text/plain": [
       "<matplotlib.image.AxesImage at 0x18f98cee808>"
      ]
     },
     "execution_count": 18,
     "metadata": {},
     "output_type": "execute_result"
    },
    {
     "data": {
      "image/png": "[encoded data removed]",
      "text/plain": [
       "<Figure size 432x288 with 1 Axes>"
      ]
     },
     "metadata": {
      "needs_background": "light"
     },
     "output_type": "display_data"
    }
   ],
   "source": [
    "I_max = get_maximum(circles)\n",
    "plt.imshow(I_max)"
   ]
  },
  {
   "cell_type": "code",
   "execution_count": 19,
   "metadata": {},
   "outputs": [
    {
     "data": {
      "text/plain": [
       "<matplotlib.image.AxesImage at 0x18f98d3fc08>"
      ]
     },
     "execution_count": 19,
     "metadata": {},
     "output_type": "execute_result"
    },
    {
     "data": {
      "image/png": "[encoded data removed]",
      "text/plain": [
       "<Figure size 432x288 with 1 Axes>"
      ]
     },
     "metadata": {
      "needs_background": "light"
     },
     "output_type": "display_data"
    }
   ],
   "source": [
    "I_median = np.median(circles, axis=0)\n",
    "plt.imshow(I_median.astype('uint8'))"
   ]
  },
  {
   "cell_type": "markdown",
   "metadata": {},
   "source": [
    "#### Full img"
   ]
  },
  {
   "cell_type": "code",
   "execution_count": 20,
   "metadata": {},
   "outputs": [],
   "source": [
    "shape = (size, size, 3)"
   ]
  },
  {
   "cell_type": "markdown",
   "metadata": {},
   "source": [
    "##### Sobel"
   ]
  },
  {
   "cell_type": "code",
   "execution_count": 21,
   "metadata": {},
   "outputs": [
    {
     "name": "stderr",
     "output_type": "stream",
     "text": [
      "D:\\anaconda\\lib\\site-packages\\pyamg\\gallery\\stencil.py:114: FutureWarning: Using a non-tuple sequence for multidimensional indexing is deprecated; use `arr[tuple(seq)]` instead of `arr[seq]`. In the future this will be interpreted as an array index, `arr[np.array(seq)]`, which will result either in an error or a different result.\n",
      "  diag[s] = 0\n",
      "D:\\anaconda\\lib\\site-packages\\pyamg\\gallery\\stencil.py:110: FutureWarning: Using a non-tuple sequence for multidimensional indexing is deprecated; use `arr[tuple(seq)]` instead of `arr[seq]`. In the future this will be interpreted as an array index, `arr[np.array(seq)]`, which will result either in an error or a different result.\n",
      "  diag[s] = 0\n"
     ]
    },
    {
     "name": "stdout",
     "output_type": "stream",
     "text": [
      "multilevel_solver\n",
      "Number of Levels:     10\n",
      "Operator Complexity:  2.340\n",
      "Grid Complexity:      1.573\n",
      "Coarse Solver:        'pinv2'\n",
      "  level   unknowns     nonzeros\n",
      "    0      1228800      7774720 [42.73%]\n",
      "    1       614400      9195526 [50.54%]\n",
      "    2        70226       950332 [ 5.22%]\n",
      "    3        14201       194797 [ 1.07%]\n",
      "    4         3614        53394 [ 0.29%]\n",
      "    5         1334        18348 [ 0.10%]\n",
      "    6          505         5855 [ 0.03%]\n",
      "    7          182         1620 [ 0.01%]\n",
      "    8           65          407 [ 0.00%]\n",
      "    9           22          108 [ 0.00%]\n",
      "\n"
     ]
    },
    {
     "name": "stderr",
     "output_type": "stream",
     "text": [
      "Clipping input data to the valid range for imshow with RGB data ([0..1] for floats or [0..255] for integers).\n"
     ]
    },
    {
     "name": "stdout",
     "output_type": "stream",
     "text": [
      "residual:  0.0012263174410186385\n",
      "ans: (dtype('float64'), (640, 640, 3), -632205.2493605288, -21176.226035116983, 676821.6981950612)\n",
      "Wall time: 4.46 s\n"
     ]
    },
    {
     "data": {
      "image/png": "[encoded data removed]",
      "text/plain": [
       "<Figure size 432x288 with 1 Axes>"
      ]
     },
     "metadata": {
      "needs_background": "light"
     },
     "output_type": "display_data"
    }
   ],
   "source": [
    "%%time\n",
    "ans_sobel = solve_poisson(shape, div_G_sobel).reshape(-1, size, 3)\n",
    "plt.imshow(ans_sobel)\n",
    "print(f\"ans: {stats(ans_sobel)}\")"
   ]
  },
  {
   "cell_type": "markdown",
   "metadata": {},
   "source": [
    "#### Numpy"
   ]
  },
  {
   "cell_type": "code",
   "execution_count": 19,
   "metadata": {},
   "outputs": [
    {
     "name": "stderr",
     "output_type": "stream",
     "text": [
      "D:\\anaconda\\lib\\site-packages\\pyamg\\gallery\\stencil.py:114: FutureWarning: Using a non-tuple sequence for multidimensional indexing is deprecated; use `arr[tuple(seq)]` instead of `arr[seq]`. In the future this will be interpreted as an array index, `arr[np.array(seq)]`, which will result either in an error or a different result.\n",
      "  diag[s] = 0\n",
      "D:\\anaconda\\lib\\site-packages\\pyamg\\gallery\\stencil.py:110: FutureWarning: Using a non-tuple sequence for multidimensional indexing is deprecated; use `arr[tuple(seq)]` instead of `arr[seq]`. In the future this will be interpreted as an array index, `arr[np.array(seq)]`, which will result either in an error or a different result.\n",
      "  diag[s] = 0\n"
     ]
    },
    {
     "name": "stdout",
     "output_type": "stream",
     "text": [
      "multilevel_solver\n",
      "Number of Levels:     10\n",
      "Operator Complexity:  2.340\n",
      "Grid Complexity:      1.573\n",
      "Coarse Solver:        'pinv2'\n",
      "  level   unknowns     nonzeros\n",
      "    0      1228800      7774720 [42.73%]\n",
      "    1       614400      9195526 [50.54%]\n",
      "    2        70226       950332 [ 5.22%]\n",
      "    3        14201       194797 [ 1.07%]\n",
      "    4         3614        53394 [ 0.29%]\n",
      "    5         1334        18348 [ 0.10%]\n",
      "    6          505         5855 [ 0.03%]\n",
      "    7          182         1620 [ 0.01%]\n",
      "    8           65          407 [ 0.00%]\n",
      "    9           22          108 [ 0.00%]\n",
      "\n"
     ]
    },
    {
     "name": "stderr",
     "output_type": "stream",
     "text": [
      "Clipping input data to the valid range for imshow with RGB data ([0..1] for floats or [0..255] for integers).\n"
     ]
    },
    {
     "name": "stdout",
     "output_type": "stream",
     "text": [
      "residual:  2.5648399040232548e-06\n",
      "ans: (dtype('float64'), (640, 640, 3), -69.50702044715798, -1.3110876030455452, 47.1200377571974)\n",
      "Wall time: 4.21 s\n"
     ]
    },
    {
     "data": {
      "image/png": "[encoded data removed]",
      "text/plain": [
       "<Figure size 432x288 with 1 Axes>"
      ]
     },
     "metadata": {
      "needs_background": "light"
     },
     "output_type": "display_data"
    }
   ],
   "source": [
    "%%time\n",
    "ans_np = solve_poisson(shape, div_G_np).reshape(-1, size, 3)\n",
    "plt.imshow(ans_np)\n",
    "print(f\"ans: {stats(ans_np)}\")"
   ]
  },
  {
   "cell_type": "markdown",
   "metadata": {},
   "source": [
    "#### By color img"
   ]
  },
  {
   "cell_type": "code",
   "execution_count": 20,
   "metadata": {},
   "outputs": [],
   "source": [
    "shape = (size, size)"
   ]
  },
  {
   "cell_type": "markdown",
   "metadata": {},
   "source": [
    "#### Sobel"
   ]
  },
  {
   "cell_type": "code",
   "execution_count": 21,
   "metadata": {},
   "outputs": [
    {
     "name": "stderr",
     "output_type": "stream",
     "text": [
      "D:\\anaconda\\lib\\site-packages\\pyamg\\gallery\\stencil.py:114: FutureWarning: Using a non-tuple sequence for multidimensional indexing is deprecated; use `arr[tuple(seq)]` instead of `arr[seq]`. In the future this will be interpreted as an array index, `arr[np.array(seq)]`, which will result either in an error or a different result.\n",
      "  diag[s] = 0\n",
      "D:\\anaconda\\lib\\site-packages\\pyamg\\gallery\\stencil.py:110: FutureWarning: Using a non-tuple sequence for multidimensional indexing is deprecated; use `arr[tuple(seq)]` instead of `arr[seq]`. In the future this will be interpreted as an array index, `arr[np.array(seq)]`, which will result either in an error or a different result.\n",
      "  diag[s] = 0\n"
     ]
    },
    {
     "name": "stdout",
     "output_type": "stream",
     "text": [
      "multilevel_solver\n",
      "Number of Levels:     10\n",
      "Operator Complexity:  2.199\n",
      "Grid Complexity:      1.666\n",
      "Coarse Solver:        'pinv2'\n",
      "  level   unknowns     nonzeros\n",
      "    0       409600      2045440 [45.47%]\n",
      "    1       204800      1838082 [40.86%]\n",
      "    2        51202       459960 [10.22%]\n",
      "    3        12661       114727 [ 2.55%]\n",
      "    4         3165        29699 [ 0.66%]\n",
      "    5          790         7916 [ 0.18%]\n",
      "    6          199         2069 [ 0.05%]\n",
      "    7           52          612 [ 0.01%]\n",
      "    8           13          111 [ 0.00%]\n",
      "    9            3            9 [ 0.00%]\n",
      "\n",
      "residual:  0.007012695747917715\n"
     ]
    },
    {
     "name": "stderr",
     "output_type": "stream",
     "text": [
      "D:\\anaconda\\lib\\site-packages\\pyamg\\gallery\\stencil.py:114: FutureWarning: Using a non-tuple sequence for multidimensional indexing is deprecated; use `arr[tuple(seq)]` instead of `arr[seq]`. In the future this will be interpreted as an array index, `arr[np.array(seq)]`, which will result either in an error or a different result.\n",
      "  diag[s] = 0\n",
      "D:\\anaconda\\lib\\site-packages\\pyamg\\gallery\\stencil.py:110: FutureWarning: Using a non-tuple sequence for multidimensional indexing is deprecated; use `arr[tuple(seq)]` instead of `arr[seq]`. In the future this will be interpreted as an array index, `arr[np.array(seq)]`, which will result either in an error or a different result.\n",
      "  diag[s] = 0\n"
     ]
    },
    {
     "name": "stdout",
     "output_type": "stream",
     "text": [
      "multilevel_solver\n",
      "Number of Levels:     10\n",
      "Operator Complexity:  2.199\n",
      "Grid Complexity:      1.666\n",
      "Coarse Solver:        'pinv2'\n",
      "  level   unknowns     nonzeros\n",
      "    0       409600      2045440 [45.47%]\n",
      "    1       204800      1838082 [40.86%]\n",
      "    2        51202       459960 [10.22%]\n",
      "    3        12661       114727 [ 2.55%]\n",
      "    4         3165        29699 [ 0.66%]\n",
      "    5          790         7916 [ 0.18%]\n",
      "    6          199         2069 [ 0.05%]\n",
      "    7           52          612 [ 0.01%]\n",
      "    8           13          111 [ 0.00%]\n",
      "    9            3            9 [ 0.00%]\n",
      "\n",
      "residual:  0.007012695747917715\n"
     ]
    },
    {
     "name": "stderr",
     "output_type": "stream",
     "text": [
      "D:\\anaconda\\lib\\site-packages\\pyamg\\gallery\\stencil.py:114: FutureWarning: Using a non-tuple sequence for multidimensional indexing is deprecated; use `arr[tuple(seq)]` instead of `arr[seq]`. In the future this will be interpreted as an array index, `arr[np.array(seq)]`, which will result either in an error or a different result.\n",
      "  diag[s] = 0\n",
      "D:\\anaconda\\lib\\site-packages\\pyamg\\gallery\\stencil.py:110: FutureWarning: Using a non-tuple sequence for multidimensional indexing is deprecated; use `arr[tuple(seq)]` instead of `arr[seq]`. In the future this will be interpreted as an array index, `arr[np.array(seq)]`, which will result either in an error or a different result.\n",
      "  diag[s] = 0\n"
     ]
    },
    {
     "name": "stdout",
     "output_type": "stream",
     "text": [
      "multilevel_solver\n",
      "Number of Levels:     10\n",
      "Operator Complexity:  2.199\n",
      "Grid Complexity:      1.666\n",
      "Coarse Solver:        'pinv2'\n",
      "  level   unknowns     nonzeros\n",
      "    0       409600      2045440 [45.47%]\n",
      "    1       204800      1838082 [40.86%]\n",
      "    2        51202       459960 [10.22%]\n",
      "    3        12661       114727 [ 2.55%]\n",
      "    4         3165        29699 [ 0.66%]\n",
      "    5          790         7916 [ 0.18%]\n",
      "    6          199         2069 [ 0.05%]\n",
      "    7           52          612 [ 0.01%]\n",
      "    8           13          111 [ 0.00%]\n",
      "    9            3            9 [ 0.00%]\n",
      "\n"
     ]
    },
    {
     "name": "stderr",
     "output_type": "stream",
     "text": [
      "Clipping input data to the valid range for imshow with RGB data ([0..1] for floats or [0..255] for integers).\n"
     ]
    },
    {
     "name": "stdout",
     "output_type": "stream",
     "text": [
      "residual:  0.007012695747917715\n",
      "Sobel by colors ans: (dtype('float64'), (640, 640, 3), -3140722.3041833118, -912925.1457602183, 2725807.721718561)\n",
      "Wall time: 4.89 s\n"
     ]
    },
    {
     "data": {
      "text/plain": [
       "<matplotlib.image.AxesImage at 0x2b900065808>"
      ]
     },
     "execution_count": 21,
     "metadata": {},
     "output_type": "execute_result"
    },
    {
     "data": {
      "image/png": "[encoded data removed]",
      "text/plain": [
       "<Figure size 432x288 with 1 Axes>"
      ]
     },
     "metadata": {
      "needs_background": "light"
     },
     "output_type": "display_data"
    }
   ],
   "source": [
    "%%time\n",
    "colors_sobel = cv2.split(div_G_sobel)\n",
    "ans = []\n",
    "for color in colors_sobel:\n",
    "    ans.append(solve_poisson(shape, color).reshape(-1, size))\n",
    "ans = cv2.merge(ans)\n",
    "print(f\"Sobel by colors ans: {stats(ans)}\")\n",
    "plt.imshow(ans)"
   ]
  },
  {
   "cell_type": "code",
   "execution_count": 22,
   "metadata": {},
   "outputs": [
    {
     "name": "stderr",
     "output_type": "stream",
     "text": [
      "D:\\anaconda\\lib\\site-packages\\pyamg\\gallery\\stencil.py:114: FutureWarning: Using a non-tuple sequence for multidimensional indexing is deprecated; use `arr[tuple(seq)]` instead of `arr[seq]`. In the future this will be interpreted as an array index, `arr[np.array(seq)]`, which will result either in an error or a different result.\n",
      "  diag[s] = 0\n",
      "D:\\anaconda\\lib\\site-packages\\pyamg\\gallery\\stencil.py:110: FutureWarning: Using a non-tuple sequence for multidimensional indexing is deprecated; use `arr[tuple(seq)]` instead of `arr[seq]`. In the future this will be interpreted as an array index, `arr[np.array(seq)]`, which will result either in an error or a different result.\n",
      "  diag[s] = 0\n"
     ]
    },
    {
     "name": "stdout",
     "output_type": "stream",
     "text": [
      "multilevel_solver\n",
      "Number of Levels:     10\n",
      "Operator Complexity:  2.199\n",
      "Grid Complexity:      1.666\n",
      "Coarse Solver:        'pinv2'\n",
      "  level   unknowns     nonzeros\n",
      "    0       409600      2045440 [45.47%]\n",
      "    1       204800      1838082 [40.86%]\n",
      "    2        51202       459960 [10.22%]\n",
      "    3        12661       114727 [ 2.55%]\n",
      "    4         3165        29699 [ 0.66%]\n",
      "    5          790         7916 [ 0.18%]\n",
      "    6          199         2069 [ 0.05%]\n",
      "    7           52          612 [ 0.01%]\n",
      "    8           13          111 [ 0.00%]\n",
      "    9            3            9 [ 0.00%]\n",
      "\n"
     ]
    },
    {
     "ename": "ValueError",
     "evalue": "dimension mismatch",
     "output_type": "error",
     "traceback": [
      "\u001b[1;31m---------------------------------------------------------------------------\u001b[0m",
      "\u001b[1;31mValueError\u001b[0m                                Traceback (most recent call last)",
      "\u001b[1;32m<ipython-input-22-8fa6ba916e31>\u001b[0m in \u001b[0;36m<module>\u001b[1;34m\u001b[0m\n\u001b[1;32m----> 1\u001b[1;33m \u001b[0mans_sobel\u001b[0m\u001b[1;33m,\u001b[0m \u001b[0mA\u001b[0m \u001b[1;33m=\u001b[0m \u001b[0msolve_poisson\u001b[0m\u001b[1;33m(\u001b[0m\u001b[0mshape\u001b[0m\u001b[1;33m,\u001b[0m \u001b[0mdiv_G_sobel\u001b[0m\u001b[1;33m)\u001b[0m\u001b[1;33m\u001b[0m\u001b[1;33m\u001b[0m\u001b[0m\n\u001b[0m",
      "\u001b[1;32m<ipython-input-14-c1f645e23a65>\u001b[0m in \u001b[0;36msolve_poisson\u001b[1;34m(shape, div_G)\u001b[0m\n\u001b[0;32m      4\u001b[0m     \u001b[0mprint\u001b[0m\u001b[1;33m(\u001b[0m\u001b[0mml\u001b[0m\u001b[1;33m)\u001b[0m                                           \u001b[1;31m# print hierarchy information\u001b[0m\u001b[1;33m\u001b[0m\u001b[1;33m\u001b[0m\u001b[0m\n\u001b[0;32m      5\u001b[0m     \u001b[0mb\u001b[0m \u001b[1;33m=\u001b[0m \u001b[0mdiv_G\u001b[0m\u001b[1;33m.\u001b[0m\u001b[0mravel\u001b[0m\u001b[1;33m(\u001b[0m\u001b[1;33m)\u001b[0m\u001b[1;33m\u001b[0m\u001b[1;33m\u001b[0m\u001b[0m\n\u001b[1;32m----> 6\u001b[1;33m     \u001b[0mx\u001b[0m \u001b[1;33m=\u001b[0m \u001b[0mml\u001b[0m\u001b[1;33m.\u001b[0m\u001b[0msolve\u001b[0m\u001b[1;33m(\u001b[0m\u001b[0mb\u001b[0m\u001b[1;33m,\u001b[0m \u001b[0mtol\u001b[0m\u001b[1;33m=\u001b[0m\u001b[1;36m1e-10\u001b[0m\u001b[1;33m)\u001b[0m\u001b[1;33m\u001b[0m\u001b[1;33m\u001b[0m\u001b[0m\n\u001b[0m\u001b[0;32m      7\u001b[0m     \u001b[0mprint\u001b[0m\u001b[1;33m(\u001b[0m\u001b[1;34m\"residual: \"\u001b[0m\u001b[1;33m,\u001b[0m \u001b[0mnp\u001b[0m\u001b[1;33m.\u001b[0m\u001b[0mlinalg\u001b[0m\u001b[1;33m.\u001b[0m\u001b[0mnorm\u001b[0m\u001b[1;33m(\u001b[0m\u001b[0mb\u001b[0m\u001b[1;33m-\u001b[0m\u001b[0mA\u001b[0m\u001b[1;33m*\u001b[0m\u001b[0mx\u001b[0m\u001b[1;33m)\u001b[0m\u001b[1;33m)\u001b[0m\u001b[1;33m\u001b[0m\u001b[1;33m\u001b[0m\u001b[0m\n\u001b[0;32m      8\u001b[0m     \u001b[1;32mreturn\u001b[0m \u001b[0mx\u001b[0m\u001b[1;33m\u001b[0m\u001b[1;33m\u001b[0m\u001b[0m\n",
      "\u001b[1;32mD:\\anaconda\\lib\\site-packages\\pyamg\\multilevel.py\u001b[0m in \u001b[0;36msolve\u001b[1;34m(self, b, x0, tol, maxiter, cycle, accel, callback, residuals, return_residuals)\u001b[0m\n\u001b[0;32m    460\u001b[0m         \u001b[0mA\u001b[0m \u001b[1;33m=\u001b[0m \u001b[0mself\u001b[0m\u001b[1;33m.\u001b[0m\u001b[0mlevels\u001b[0m\u001b[1;33m[\u001b[0m\u001b[1;36m0\u001b[0m\u001b[1;33m]\u001b[0m\u001b[1;33m.\u001b[0m\u001b[0mA\u001b[0m\u001b[1;33m\u001b[0m\u001b[1;33m\u001b[0m\u001b[0m\n\u001b[0;32m    461\u001b[0m \u001b[1;33m\u001b[0m\u001b[0m\n\u001b[1;32m--> 462\u001b[1;33m         \u001b[0mresiduals\u001b[0m\u001b[1;33m.\u001b[0m\u001b[0mappend\u001b[0m\u001b[1;33m(\u001b[0m\u001b[0mresidual_norm\u001b[0m\u001b[1;33m(\u001b[0m\u001b[0mA\u001b[0m\u001b[1;33m,\u001b[0m \u001b[0mx\u001b[0m\u001b[1;33m,\u001b[0m \u001b[0mb\u001b[0m\u001b[1;33m)\u001b[0m\u001b[1;33m)\u001b[0m\u001b[1;33m\u001b[0m\u001b[1;33m\u001b[0m\u001b[0m\n\u001b[0m\u001b[0;32m    463\u001b[0m \u001b[1;33m\u001b[0m\u001b[0m\n\u001b[0;32m    464\u001b[0m         \u001b[0mself\u001b[0m\u001b[1;33m.\u001b[0m\u001b[0mfirst_pass\u001b[0m \u001b[1;33m=\u001b[0m \u001b[1;32mTrue\u001b[0m\u001b[1;33m\u001b[0m\u001b[1;33m\u001b[0m\u001b[0m\n",
      "\u001b[1;32mD:\\anaconda\\lib\\site-packages\\pyamg\\util\\linalg.py\u001b[0m in \u001b[0;36mresidual_norm\u001b[1;34m(A, x, b)\u001b[0m\n\u001b[0;32m    106\u001b[0m \u001b[1;32mdef\u001b[0m \u001b[0mresidual_norm\u001b[0m\u001b[1;33m(\u001b[0m\u001b[0mA\u001b[0m\u001b[1;33m,\u001b[0m \u001b[0mx\u001b[0m\u001b[1;33m,\u001b[0m \u001b[0mb\u001b[0m\u001b[1;33m)\u001b[0m\u001b[1;33m:\u001b[0m\u001b[1;33m\u001b[0m\u001b[1;33m\u001b[0m\u001b[0m\n\u001b[0;32m    107\u001b[0m     \u001b[1;34m\"\"\"Compute ||b - A*x||.\"\"\"\u001b[0m\u001b[1;33m\u001b[0m\u001b[1;33m\u001b[0m\u001b[0m\n\u001b[1;32m--> 108\u001b[1;33m     \u001b[1;32mreturn\u001b[0m \u001b[0mnorm\u001b[0m\u001b[1;33m(\u001b[0m\u001b[0mnp\u001b[0m\u001b[1;33m.\u001b[0m\u001b[0mravel\u001b[0m\u001b[1;33m(\u001b[0m\u001b[0mb\u001b[0m\u001b[1;33m)\u001b[0m \u001b[1;33m-\u001b[0m \u001b[0mA\u001b[0m\u001b[1;33m*\u001b[0m\u001b[0mnp\u001b[0m\u001b[1;33m.\u001b[0m\u001b[0mravel\u001b[0m\u001b[1;33m(\u001b[0m\u001b[0mx\u001b[0m\u001b[1;33m)\u001b[0m\u001b[1;33m)\u001b[0m\u001b[1;33m\u001b[0m\u001b[1;33m\u001b[0m\u001b[0m\n\u001b[0m\u001b[0;32m    109\u001b[0m \u001b[1;33m\u001b[0m\u001b[0m\n\u001b[0;32m    110\u001b[0m \u001b[1;33m\u001b[0m\u001b[0m\n",
      "\u001b[1;32mD:\\anaconda\\lib\\site-packages\\scipy\\sparse\\base.py\u001b[0m in \u001b[0;36m__mul__\u001b[1;34m(self, other)\u001b[0m\n\u001b[0;32m    500\u001b[0m             \u001b[1;31m# dense row or column vector\u001b[0m\u001b[1;33m\u001b[0m\u001b[1;33m\u001b[0m\u001b[1;33m\u001b[0m\u001b[0m\n\u001b[0;32m    501\u001b[0m             \u001b[1;32mif\u001b[0m \u001b[0mother\u001b[0m\u001b[1;33m.\u001b[0m\u001b[0mshape\u001b[0m \u001b[1;33m!=\u001b[0m \u001b[1;33m(\u001b[0m\u001b[0mN\u001b[0m\u001b[1;33m,\u001b[0m\u001b[1;33m)\u001b[0m \u001b[1;32mand\u001b[0m \u001b[0mother\u001b[0m\u001b[1;33m.\u001b[0m\u001b[0mshape\u001b[0m \u001b[1;33m!=\u001b[0m \u001b[1;33m(\u001b[0m\u001b[0mN\u001b[0m\u001b[1;33m,\u001b[0m \u001b[1;36m1\u001b[0m\u001b[1;33m)\u001b[0m\u001b[1;33m:\u001b[0m\u001b[1;33m\u001b[0m\u001b[1;33m\u001b[0m\u001b[0m\n\u001b[1;32m--> 502\u001b[1;33m                 \u001b[1;32mraise\u001b[0m \u001b[0mValueError\u001b[0m\u001b[1;33m(\u001b[0m\u001b[1;34m'dimension mismatch'\u001b[0m\u001b[1;33m)\u001b[0m\u001b[1;33m\u001b[0m\u001b[1;33m\u001b[0m\u001b[0m\n\u001b[0m\u001b[0;32m    503\u001b[0m \u001b[1;33m\u001b[0m\u001b[0m\n\u001b[0;32m    504\u001b[0m             \u001b[0mresult\u001b[0m \u001b[1;33m=\u001b[0m \u001b[0mself\u001b[0m\u001b[1;33m.\u001b[0m\u001b[0m_mul_vector\u001b[0m\u001b[1;33m(\u001b[0m\u001b[0mnp\u001b[0m\u001b[1;33m.\u001b[0m\u001b[0mravel\u001b[0m\u001b[1;33m(\u001b[0m\u001b[0mother\u001b[0m\u001b[1;33m)\u001b[0m\u001b[1;33m)\u001b[0m\u001b[1;33m\u001b[0m\u001b[1;33m\u001b[0m\u001b[0m\n",
      "\u001b[1;31mValueError\u001b[0m: dimension mismatch"
     ]
    }
   ],
   "source": [
    "ans_sobel, A = solve_poisson(shape, div_G_sobel)"
   ]
  },
  {
   "cell_type": "code",
   "execution_count": 24,
   "metadata": {},
   "outputs": [
    {
     "data": {
      "text/plain": [
       "(dtype('uint8'), (640, 640), 0, 192.0, 255)"
      ]
     },
     "execution_count": 24,
     "metadata": {},
     "output_type": "execute_result"
    }
   ],
   "source": [
    "gray = cv2.cvtColor(circles[0], cv2.COLOR_BGR2GRAY)\n",
    "stats(gray)"
   ]
  },
  {
   "cell_type": "code",
   "execution_count": 21,
   "metadata": {},
   "outputs": [
    {
     "name": "stderr",
     "output_type": "stream",
     "text": [
      "Clipping input data to the valid range for imshow with RGB data ([0..1] for floats or [0..255] for integers).\n"
     ]
    },
    {
     "name": "stdout",
     "output_type": "stream",
     "text": [
      "stats: (dtype('float64'), (640, 640, 3), -676789.2066221926, 28165.327582393948, 632205.2493605288)\n"
     ]
    },
    {
     "data": {
      "text/plain": [
       "<matplotlib.image.AxesImage at 0x1b5001fb888>"
      ]
     },
     "execution_count": 21,
     "metadata": {},
     "output_type": "execute_result"
    },
    {
     "data": {
      "image/png": "[encoded data removed]",
      "text/plain": [
       "<Figure size 432x288 with 1 Axes>"
      ]
     },
     "metadata": {
      "needs_background": "light"
     },
     "output_type": "display_data"
    }
   ],
   "source": [
    "print(f\"stats: {stats(-1*ans_sobel)}\")\n",
    "plt.imshow(-1*ans_sobel)"
   ]
  },
  {
   "cell_type": "code",
   "execution_count": 22,
   "metadata": {},
   "outputs": [
    {
     "name": "stdout",
     "output_type": "stream",
     "text": [
      "test: (dtype('float64'), (640, 640, 3), 0.0, 135.97082245790574, 255.0)\n"
     ]
    },
    {
     "data": {
      "text/plain": [
       "<matplotlib.image.AxesImage at 0x18fa879e808>"
      ]
     },
     "execution_count": 22,
     "metadata": {},
     "output_type": "execute_result"
    },
    {
     "data": {
      "image/png": "[encoded data removed]",
      "text/plain": [
       "<Figure size 432x288 with 1 Axes>"
      ]
     },
     "metadata": {
      "needs_background": "light"
     },
     "output_type": "display_data"
    }
   ],
   "source": [
    "test = np.copy(-1 * ans_sobel)\n",
    "test -= np.min(test)\n",
    "test /= np.max(test) / 255\n",
    "test[test > 255] = 255\n",
    "print(f\"test: {stats(test)}\")\n",
    "test = test.astype('uint8')\n",
    "plt.imshow(test)"
   ]
  },
  {
   "cell_type": "code",
   "execution_count": 25,
   "metadata": {},
   "outputs": [
    {
     "name": "stdout",
     "output_type": "stream",
     "text": [
      "R stats: (dtype('float64'), (640, 640, 3), 0.0, 143.4, 249.6)\n"
     ]
    },
    {
     "data": {
      "text/plain": [
       "<matplotlib.image.AxesImage at 0x18fa8dda448>"
      ]
     },
     "execution_count": 25,
     "metadata": {},
     "output_type": "execute_result"
    },
    {
     "data": {
      "image/png": "[encoded data removed]",
      "text/plain": [
       "<Figure size 432x288 with 1 Axes>"
      ]
     },
     "metadata": {
      "needs_background": "light"
     },
     "output_type": "display_data"
    }
   ],
   "source": [
    "R = calc_R(0.9, test, I_max)\n",
    "print(f\"R stats: {stats(R)}\")\n",
    "plt.imshow(R.astype('uint8'))"
   ]
  }
 ],
 "metadata": {
  "kernelspec": {
   "display_name": "Python 3",
   "language": "python",
   "name": "python3"
  },
  "language_info": {
   "codemirror_mode": {
    "name": "ipython",
    "version": 3
   },
   "file_extension": ".py",
   "mimetype": "text/x-python",
   "name": "python",
   "nbconvert_exporter": "python",
   "pygments_lexer": "ipython3",
   "version": "3.7.6"
  }
 },
 "nbformat": 4,
 "nbformat_minor": 4
}
