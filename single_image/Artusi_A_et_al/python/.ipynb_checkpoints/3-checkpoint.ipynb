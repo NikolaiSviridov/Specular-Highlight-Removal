{
 "cells": [
  {
   "cell_type": "code",
   "execution_count": 2,
   "metadata": {},
   "outputs": [],
   "source": [
    "import cv2\n",
    "import numpy as np\n",
    "from matplotlib import pyplot as plt\n",
    "from multiprocessing import Pool\n",
    "import time\n",
    "import dill"
   ]
  },
  {
   "cell_type": "code",
   "execution_count": 2,
   "metadata": {},
   "outputs": [],
   "source": [
    "def show_img(img):\n",
    "    cv2.imshow(\"img\", img)\n",
    "    cv2.waitKey(0)\n",
    "    cv2.destroyAllWindows()"
   ]
  },
  {
   "cell_type": "code",
   "execution_count": 3,
   "metadata": {},
   "outputs": [],
   "source": [
    "def show_plt_img(img_in):\n",
    "    img = cv2.cvtColor(img_in, cv2.COLOR_BGR2RGB)\n",
    "    plt.imshow(img)"
   ]
  },
  {
   "cell_type": "code",
   "execution_count": 4,
   "metadata": {},
   "outputs": [],
   "source": [
    "alpha = 0.1\n",
    "theta = 0.01\n",
    "sigma = 0.01\n",
    "B1 = 3\n",
    "B2 = 0.1 "
   ]
  },
  {
   "cell_type": "markdown",
   "metadata": {},
   "source": [
    "Input: specular highlight image I(x)"
   ]
  },
  {
   "cell_type": "code",
   "execution_count": 5,
   "metadata": {},
   "outputs": [],
   "source": [
    "img = cv2.imread('fish.ppm')"
   ]
  },
  {
   "cell_type": "code",
   "execution_count": 6,
   "metadata": {},
   "outputs": [],
   "source": [
    "# show_img(img)"
   ]
  },
  {
   "cell_type": "markdown",
   "metadata": {},
   "source": [
    "Compute H(x); S(x); V(x)g by HSV transformation"
   ]
  },
  {
   "cell_type": "code",
   "execution_count": 6,
   "metadata": {},
   "outputs": [],
   "source": [
    "hsv_img = cv2.cvtColor(img, cv2.COLOR_BGR2HSV) / 255\n",
    "H, S, V = hsv_img[:, :, 0], hsv_img[:, :, 1], hsv_img[:, :, 2]"
   ]
  },
  {
   "cell_type": "code",
   "execution_count": 7,
   "metadata": {},
   "outputs": [],
   "source": [
    "I_b, I_g, I_r = cv2.split(img / 255)"
   ]
  },
  {
   "cell_type": "code",
   "execution_count": 9,
   "metadata": {},
   "outputs": [],
   "source": [
    "# show_img(hsv_img)"
   ]
  },
  {
   "cell_type": "markdown",
   "metadata": {},
   "source": [
    "Compute highlight detection sets by (8) and (9)  "
   ]
  },
  {
   "cell_type": "markdown",
   "metadata": {},
   "source": [
    "X_SV(x) = {x| S(x) < α; V(x) > 1 − α} (8) "
   ]
  },
  {
   "cell_type": "code",
   "execution_count": 8,
   "metadata": {},
   "outputs": [
    {
     "data": {
      "text/plain": [
       "(0.0, 0.4376002221200981, 0.9647058823529412)"
      ]
     },
     "execution_count": 8,
     "metadata": {},
     "output_type": "execute_result"
    }
   ],
   "source": [
    "np.min(S), np.mean(S), np.max(S)"
   ]
  },
  {
   "cell_type": "code",
   "execution_count": 9,
   "metadata": {},
   "outputs": [],
   "source": [
    "X_SV = np.array(S < alpha) & np.array(V > 1 - alpha)\n",
    "# X_SV = "
   ]
  },
  {
   "cell_type": "markdown",
   "metadata": {},
   "source": [
    "X_G(x) = {x| G(x) ≥ τ} (9)"
   ]
  },
  {
   "cell_type": "code",
   "execution_count": 10,
   "metadata": {},
   "outputs": [
    {
     "data": {
      "text/plain": [
       "(480, 640)"
      ]
     },
     "execution_count": 10,
     "metadata": {},
     "output_type": "execute_result"
    }
   ],
   "source": [
    "#gradient magnitude of dark-channel image\n",
    "I_gmd = np.minimum(I_b, I_g, I_r)\n",
    "I_gmd.shape"
   ]
  },
  {
   "cell_type": "code",
   "execution_count": 11,
   "metadata": {},
   "outputs": [],
   "source": [
    "_I_gmd = np.pad(I_gmd, ((1,1),(1,1)), 'constant', constant_values=((0,0),(0,0)))"
   ]
  },
  {
   "cell_type": "code",
   "execution_count": 12,
   "metadata": {},
   "outputs": [],
   "source": [
    "G = cv2.Laplacian(I_gmd, cv2.CV_64F)\n",
    "X_G = np.array(G >= theta)\n",
    "# show_img(G)"
   ]
  },
  {
   "cell_type": "markdown",
   "metadata": {},
   "source": [
    "Compute Hue estimate H* (11)\n"
   ]
  },
  {
   "cell_type": "code",
   "execution_count": 13,
   "metadata": {},
   "outputs": [],
   "source": [
    "X_SVG = X_SV | X_G"
   ]
  },
  {
   "cell_type": "code",
   "execution_count": 14,
   "metadata": {},
   "outputs": [],
   "source": [
    "def w_svg(x):\n",
    "    global X_SVG\n",
    "    if X_SVG[x]:\n",
    "        return alpha\n",
    "    return 1"
   ]
  },
  {
   "cell_type": "code",
   "execution_count": 18,
   "metadata": {},
   "outputs": [
    {
     "data": {
      "text/plain": [
       "array([[1. , 1. , 1. , ..., 1. , 1. , 1. ],\n",
       "       [1. , 1. , 1. , ..., 1. , 0.1, 1. ],\n",
       "       [0.1, 1. , 1. , ..., 1. , 1. , 0.1],\n",
       "       ...,\n",
       "       [1. , 0.1, 1. , ..., 0.1, 1. , 0.1],\n",
       "       [1. , 1. , 1. , ..., 1. , 1. , 1. ],\n",
       "       [1. , 1. , 1. , ..., 1. , 0.1, 1. ]])"
      ]
     },
     "execution_count": 18,
     "metadata": {},
     "output_type": "execute_result"
    }
   ],
   "source": [
    "W_svg_matrix = np.copy(X_SVG).astype('float64')\n",
    "W_svg_matrix[W_svg_matrix == True] = alpha\n",
    "W_svg_matrix[W_svg_matrix == False] = 1\n",
    "W_svg_matrix"
   ]
  },
  {
   "cell_type": "code",
   "execution_count": 16,
   "metadata": {},
   "outputs": [],
   "source": [
    "def w_hs(H_x, H_u, S_u):\n",
    "    fst = np.exp(-np.power(H_x - H_u, 2) / np.power(sigma, 2))\n",
    "#     mb mistake in paper\n",
    "#     snd = np.exp(-(1 - np.power(S(u), 2)))\n",
    "    snd = np.exp(-np.power(1 - S_u, 2))\n",
    "    return fst * snd\n",
    "\n",
    "def filter_w_hs(H_x, H_part, S_part):\n",
    "    result = 0\n",
    "    for H_u, S_u in zip(np.nditer(H_part), np.nditer(S_part)):\n",
    "        result += w_hs(H_x, H_u, S_u)\n",
    "    return result\n",
    "        \n",
    "def filter_w_hs_S(H_x, H_part, S_part):\n",
    "    result = 0\n",
    "    for H_u, S_u in zip(np.nditer(H_part), np.nditer(S_part)):\n",
    "        result += w_hs(H_x, H_u, S_u) * S_u\n",
    "    return result"
   ]
  },
  {
   "cell_type": "code",
   "execution_count": 21,
   "metadata": {},
   "outputs": [],
   "source": [
    "def calc_size(point, shape, window_size):\n",
    "    result = [0, 0, 0, 0]\n",
    "    y, x = point\n",
    "    edge = (window_size - 1) // 2\n",
    "    result[0] = max(y - edge, 0) #y - edge if y - edge > 0 else 0 \n",
    "    result[1] = min(shape[0], y + edge) #y + edge if y + edge < shape[0] else shape[0]\n",
    "    \n",
    "    result[2] = max(x - edge, 0) #x - edge if x - edge > 0 else 0 \n",
    "    result[3] = min(x + edge, shape[1]) #x + edge if x + edge < shape[1] else shape[1]\n",
    "    return result \n",
    "\n",
    "def get_whs(H_x, H_part, S_part):\n",
    "    #     mb mistake in paper\n",
    "    return np.exp(-(H_x - H_part) ** 2) * np.exp(-(1 - S_part) ** 2)\n",
    "#     return np.exp(-(H_x - H_part) ** 2) * np.exp(-(1 - S_part ** 2) )\n",
    "\n",
    "\n",
    "def get_part(size, Matrix):\n",
    "    return Matrix[size[0] : size[1], size[2] : size[3]]"
   ]
  },
  {
   "cell_type": "code",
   "execution_count": 33,
   "metadata": {},
   "outputs": [
    {
     "name": "stdout",
     "output_type": "stream",
     "text": [
      "(480, 640)\n",
      "Wall time: 2.08 s\n"
     ]
    }
   ],
   "source": [
    "%%time\n",
    "window_size = 7\n",
    "print(X_SVG.shape)\n",
    "H_11 = np.zeros(X_SVG.shape)\n",
    "S_12 = np.zeros(X_SVG.shape)\n",
    "\n",
    "\n",
    "for y in range(X_SVG.shape[0]):\n",
    "    for x in range(X_SVG.shape[1]):\n",
    "        if X_SVG[y, x]:\n",
    "            size = calc_size((y, x), X_SVG.shape, window_size)\n",
    "            H_part = get_part(size, H)\n",
    "            S_part = get_part(size, S)        \n",
    "           \n",
    "            wsvg = get_part(size, W_svg_matrix)\n",
    "            H_svg = H_part * wsvg\n",
    "            H_11[y, x] = (1 / wsvg.sum()) * H_svg.sum()\n",
    "            \n",
    "            whs = get_whs(H[y, x], H_part, S_part)\n",
    "            S_whs = whs * S_part\n",
    "            S_12[y, x] = (1 / whs.sum()) * S_whs.sum()"
   ]
  },
  {
   "cell_type": "code",
   "execution_count": 40,
   "metadata": {},
   "outputs": [],
   "source": [
    "# show_img(S_12)\n",
    "# show_img(H_11)"
   ]
  },
  {
   "cell_type": "code",
   "execution_count": 77,
   "metadata": {},
   "outputs": [],
   "source": [
    "# hsv_img = cv2.cvtColor(img, cv2.COLOR_BGR2HSV) / 255\n",
    "# H, S, V = hsv_img[:, :, 0], hsv_img[:, :, 1], hsv_img[:, :, 2]\n",
    "ones = np.ones(X_SVG.shape)\n",
    "corrected_hsv = np.ones(hsv_img.shape)\n",
    "corrected_hsv[:, :, 0] = H_11\n",
    "corrected_hsv[:, :, 1] = S_12\n",
    "# corrected_hsv[:, :, 2] /= 255\n",
    "hsv_img = cv2.cvtColor(img, cv2.COLOR_BGR2HSV)\n",
    "corrected_rgb = cv2.cvtColor(corrected_hsv.astype('uint8'), cv2.COLOR_HSV2RGB)"
   ]
  },
  {
   "cell_type": "code",
   "execution_count": 78,
   "metadata": {},
   "outputs": [],
   "source": [
    "show_img(corrected_img)"
   ]
  },
  {
   "cell_type": "markdown",
   "metadata": {},
   "source": [
    "Compute m∗d(x) by updating algorithm (25)\n",
    "k - free color value \n"
   ]
  },
  {
   "cell_type": "code",
   "execution_count": 79,
   "metadata": {},
   "outputs": [],
   "source": [
    "def P(z, u):\n",
    "    return np.argmin(np.linalg.norm(u - z))"
   ]
  }
 ],
 "metadata": {
  "kernelspec": {
   "display_name": "Python 3",
   "language": "python",
   "name": "python3"
  },
  "language_info": {
   "codemirror_mode": {
    "name": "ipython",
    "version": 3
   },
   "file_extension": ".py",
   "mimetype": "text/x-python",
   "name": "python",
   "nbconvert_exporter": "python",
   "pygments_lexer": "ipython3",
   "version": "3.7.6"
  }
 },
 "nbformat": 4,
 "nbformat_minor": 4
}
